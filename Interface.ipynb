{
 "cells": [
  {
   "cell_type": "code",
   "execution_count": 1,
   "metadata": {},
   "outputs": [
    {
     "name": "stderr",
     "output_type": "stream",
     "text": [
      "WARNING:absl:Compiled the loaded model, but the compiled metrics have yet to be built. `model.compile_metrics` will be empty until you train or evaluate the model.\n"
     ]
    },
    {
     "name": "stdout",
     "output_type": "stream",
     "text": [
      " * Serving Flask app '__main__'\n",
      " * Debug mode: off\n"
     ]
    },
    {
     "name": "stderr",
     "output_type": "stream",
     "text": [
      "INFO:werkzeug:\u001b[31m\u001b[1mWARNING: This is a development server. Do not use it in a production deployment. Use a production WSGI server instead.\u001b[0m\n",
      " * Running on http://127.0.0.1:53132\n",
      "INFO:werkzeug:\u001b[33mPress CTRL+C to quit\u001b[0m\n"
     ]
    }
   ],
   "source": [
    "import os\n",
    "import pandas as pd\n",
    "import numpy as np\n",
    "import tensorflow as tf\n",
    "from sklearn.preprocessing import StandardScaler\n",
    "from flask import Flask, request, jsonify\n",
    "\n",
    "app = Flask(__name__)\n",
    "\n",
    "# Load pre-existing DataFrame from CSV\n",
    "csv_file_path = '/Users/elvisechefu/Desktop/Final-code/verified_data.csv'  # Change to your actual path\n",
    "df = pd.read_csv(csv_file_path)\n",
    "base_dir = '/Users/elvisechefu/Desktop/LutraCAD2/ai_skdfjsdfJDIKFJsihfdsf8472983hdsof'  # Change to your actual path\n",
    "\n",
    "# Load pre-trained model\n",
    "model = tf.keras.models.load_model('/Users/elvisechefu/Desktop/Final-code/Final-model.h5')  # Change to your actual path\n",
    "\n",
    "# Function to extract markers parameters from txt file\n",
    "def extract_markers_parameters(txt_path):\n",
    "    parameters = {}\n",
    "    try:\n",
    "        with open(txt_path, 'r') as f:\n",
    "            for line in f:\n",
    "                if ':' in line:\n",
    "                    key, value = line.split(':', 1)\n",
    "                    key = key.strip()\n",
    "                    value is value.strip()\n",
    "                    if value:\n",
    "                        parameters[key] = value\n",
    "        return parameters\n",
    "    except Exception as e:\n",
    "        print(f\"Error extracting parameters from {txt_path}: {e}\")\n",
    "        return None\n",
    "\n",
    "@app.route('/upload', methods=['POST'])\n",
    "def upload_folder():\n",
    "    if 'files[]' not in request.files:\n",
    "        return jsonify({\"error\": \"No files part in the request\"}), 400\n",
    "\n",
    "    files = request.files.getlist('files[]')\n",
    "    folder_path = 'uploads'\n",
    "    os.makedirs(folder_path, exist_ok=True)\n",
    "\n",
    "    for file in files:\n",
    "        file_path = os.path.join(folder_path, file.filename)\n",
    "        os.makedirs(os.path.dirname(file_path), exist_ok=True)\n",
    "        file.save(file_path)\n",
    "\n",
    "    markers_file = next((f for f in files if f.filename.endswith('markers.txt')), None)\n",
    "    \n",
    "    if markers_file is None:\n",
    "        return jsonify({\"error\": \"No markers file found\"}), 400\n",
    "    \n",
    "    txt_path = os.path.join(folder_path, markers_file.filename)\n",
    "    \n",
    "    markers_params = extract_markers_parameters(txt_path)\n",
    "    \n",
    "    if markers_params:\n",
    "        data = {\n",
    "            'LENGTH': markers_params.get('LENGTH', None),\n",
    "            'WIDTH': markers_params.get('WIDTH', None)\n",
    "        }\n",
    "        test_df = pd.DataFrame([data])\n",
    "        test_df['LENGTH'] = pd.to_numeric(test_df['LENGTH'], errors='coerce')\n",
    "        test_df['WIDTH'] = pd.to_numeric(test_df['WIDTH'], errors='coerce')\n",
    "        test_df['LENGTH'].fillna(test_df['LENGTH'].mean(), inplace=True)\n",
    "        test_df['WIDTH'].fillna(test_df['WIDTH'].mean(), inplace=True)\n",
    "\n",
    "        # Scale the input data\n",
    "        scaler = StandardScaler()\n",
    "        test_df_scaled = scaler.fit_transform(test_df)\n",
    "\n",
    "        # Make predictions\n",
    "        predictions = model.predict(test_df_scaled)\n",
    "        predictions_series = pd.Series(predictions.ravel())\n",
    "\n",
    "        # Find the closest row\n",
    "        diff = np.abs(df[['InsoleLength', 'InsoleHeight']] - predictions_series.values.reshape(1, -1))\n",
    "        diff_sum = diff.sum(axis=1)\n",
    "        min_idx = diff_sum.idxmin()\n",
    "        closest_row = df.loc[min_idx]\n",
    "        closest_row_df = closest_row.to_frame().T\n",
    "\n",
    "        # Drop specified columns\n",
    "        closest_row_df = closest_row_df.drop(columns=['Subfolder', 'MTP1', 'MTP5', 'HEEL', 'ARCH', 'LENGTH', 'WIDTH'])\n",
    "\n",
    "        # Print the result for debugging\n",
    "        print(closest_row_df.to_dict())\n",
    "\n",
    "        return jsonify(closest_row_df.to_dict())\n",
    "    else:\n",
    "        return jsonify({\"error\": \"No markers found\"}), 400\n",
    "\n",
    "if __name__ == '__main__':\n",
    "    app.run(port=0)"
   ]
  }
 ],
 "metadata": {
  "kernelspec": {
   "display_name": "base",
   "language": "python",
   "name": "python3"
  },
  "language_info": {
   "codemirror_mode": {
    "name": "ipython",
    "version": 3
   },
   "file_extension": ".py",
   "mimetype": "text/x-python",
   "name": "python",
   "nbconvert_exporter": "python",
   "pygments_lexer": "ipython3",
   "version": "3.11.0"
  },
  "orig_nbformat": 4
 },
 "nbformat": 4,
 "nbformat_minor": 2
}
